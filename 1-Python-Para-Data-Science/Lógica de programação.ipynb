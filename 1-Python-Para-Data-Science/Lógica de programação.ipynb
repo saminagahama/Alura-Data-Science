{
 "cells": [
  {
   "cell_type": "markdown",
   "id": "d42c51e9",
   "metadata": {},
   "source": [
    "# Lógica de Programação"
   ]
  },
  {
   "cell_type": "code",
   "execution_count": 1,
   "id": "d2b8f62f",
   "metadata": {},
   "outputs": [],
   "source": [
    "nome = 'Guilherme'\n",
    "idade = 28"
   ]
  },
  {
   "cell_type": "code",
   "execution_count": 2,
   "id": "98ea249f",
   "metadata": {},
   "outputs": [
    {
     "name": "stdout",
     "output_type": "stream",
     "text": [
      "O nome é Guilherme e sua idade é 28 anos\n"
     ]
    }
   ],
   "source": [
    "print(f'O nome é {nome} e sua idade é {idade} anos')"
   ]
  },
  {
   "cell_type": "code",
   "execution_count": 3,
   "id": "dc9df164",
   "metadata": {},
   "outputs": [],
   "source": [
    "idade = 29"
   ]
  },
  {
   "cell_type": "code",
   "execution_count": 4,
   "id": "b7eb2d7c",
   "metadata": {},
   "outputs": [
    {
     "name": "stdout",
     "output_type": "stream",
     "text": [
      "O nome é Guilherme e sua idade é 29 anos\n"
     ]
    }
   ],
   "source": [
    "print(f'O nome é {nome} e sua idade é {idade} anos')"
   ]
  },
  {
   "cell_type": "markdown",
   "id": "0f5d5c50",
   "metadata": {},
   "source": [
    "# Criando minha primeira função"
   ]
  },
  {
   "cell_type": "code",
   "execution_count": 8,
   "id": "27e1b2d2",
   "metadata": {},
   "outputs": [],
   "source": [
    "def saudacao():\n",
    "    nome = input('Qual o seu nome? ')\n",
    "    print(f'Olá {nome}')"
   ]
  },
  {
   "cell_type": "code",
   "execution_count": 9,
   "id": "c76263fc",
   "metadata": {},
   "outputs": [
    {
     "name": "stdout",
     "output_type": "stream",
     "text": [
      "Qual o seu nome? Sami\n",
      "Olá Sami\n"
     ]
    }
   ],
   "source": [
    "saudacao()"
   ]
  },
  {
   "cell_type": "markdown",
   "id": "9043b209",
   "metadata": {},
   "source": [
    "# Parâmetros"
   ]
  },
  {
   "cell_type": "code",
   "execution_count": 15,
   "id": "52065ca9",
   "metadata": {},
   "outputs": [],
   "source": [
    "nome = 'João'"
   ]
  },
  {
   "cell_type": "code",
   "execution_count": 13,
   "id": "42bc2387",
   "metadata": {},
   "outputs": [],
   "source": [
    "def saudacao_com_parametros(nome_da_pessoa):\n",
    "    print(f'Olá {nome_da_pessoa}')"
   ]
  },
  {
   "cell_type": "code",
   "execution_count": 16,
   "id": "bb9aa85b",
   "metadata": {},
   "outputs": [
    {
     "name": "stdout",
     "output_type": "stream",
     "text": [
      "Olá João\n"
     ]
    }
   ],
   "source": [
    "saudacao_com_parametros(nome)"
   ]
  },
  {
   "cell_type": "markdown",
   "id": "36301f79",
   "metadata": {},
   "source": [
    "# Condicional"
   ]
  },
  {
   "cell_type": "code",
   "execution_count": 23,
   "id": "6603b000",
   "metadata": {},
   "outputs": [
    {
     "name": "stdout",
     "output_type": "stream",
     "text": [
      "Não tem permissão para dirigir\n"
     ]
    }
   ],
   "source": [
    "idade = 10\n",
    "\n",
    "def verifica_se_pode_dirigir(idade):\n",
    "    if idade >= 18:\n",
    "        print('Tem perimissão para dirigir')\n",
    "    else:\n",
    "        print('Não tem permissão para dirigir')\n",
    "        \n",
    "verifica_se_pode_dirigir(idade)"
   ]
  },
  {
   "cell_type": "markdown",
   "id": "f902bda6",
   "metadata": {},
   "source": [
    "# Convertendo tipo para inteiro"
   ]
  },
  {
   "cell_type": "code",
   "execution_count": 26,
   "id": "575e5cb1",
   "metadata": {},
   "outputs": [
    {
     "name": "stdout",
     "output_type": "stream",
     "text": [
      "Qual sua idade? 12\n",
      "Não tem permissão para dirigir\n"
     ]
    }
   ],
   "source": [
    "def verifica_se_pode_dirigir_sem_parametros():\n",
    "    idade = input('Qual sua idade? ')\n",
    "    idade = int(idade)\n",
    "    if idade >= 18:\n",
    "        print('Tem perimissão para dirigir')\n",
    "    else:\n",
    "        print('Não tem permissão para dirigir')\n",
    "        \n",
    "verifica_se_pode_dirigir_sem_parametros()"
   ]
  },
  {
   "cell_type": "markdown",
   "id": "6bfab553",
   "metadata": {},
   "source": [
    "# Lista"
   ]
  },
  {
   "cell_type": "code",
   "execution_count": 27,
   "id": "6e817959",
   "metadata": {},
   "outputs": [
    {
     "data": {
      "text/plain": [
       "22"
      ]
     },
     "execution_count": 27,
     "metadata": {},
     "output_type": "execute_result"
    }
   ],
   "source": [
    "idade = 22\n",
    "idade"
   ]
  },
  {
   "cell_type": "code",
   "execution_count": 29,
   "id": "b6b50be3",
   "metadata": {},
   "outputs": [
    {
     "data": {
      "text/plain": [
       "int"
      ]
     },
     "execution_count": 29,
     "metadata": {},
     "output_type": "execute_result"
    }
   ],
   "source": [
    "type(idade)"
   ]
  },
  {
   "cell_type": "code",
   "execution_count": 30,
   "id": "6527a072",
   "metadata": {},
   "outputs": [
    {
     "data": {
      "text/plain": [
       "str"
      ]
     },
     "execution_count": 30,
     "metadata": {},
     "output_type": "execute_result"
    }
   ],
   "source": [
    "nome = 'Guilherme'\n",
    "type(nome)"
   ]
  },
  {
   "cell_type": "code",
   "execution_count": 31,
   "id": "b84eb7d8",
   "metadata": {},
   "outputs": [
    {
     "data": {
      "text/plain": [
       "list"
      ]
     },
     "execution_count": 31,
     "metadata": {},
     "output_type": "execute_result"
    }
   ],
   "source": [
    "idades = [18, 22, 15, 50]\n",
    "type(idades)"
   ]
  },
  {
   "cell_type": "code",
   "execution_count": 32,
   "id": "632bdb00",
   "metadata": {
    "scrolled": true
   },
   "outputs": [
    {
     "data": {
      "text/plain": [
       "22"
      ]
     },
     "execution_count": 32,
     "metadata": {},
     "output_type": "execute_result"
    }
   ],
   "source": [
    "idades[1]"
   ]
  },
  {
   "cell_type": "code",
   "execution_count": 35,
   "id": "d35239f0",
   "metadata": {},
   "outputs": [
    {
     "data": {
      "text/plain": [
       "[18, 22, 15]"
      ]
     },
     "execution_count": 35,
     "metadata": {},
     "output_type": "execute_result"
    }
   ],
   "source": [
    "idades[0:3]"
   ]
  },
  {
   "cell_type": "code",
   "execution_count": 36,
   "id": "3f77e994",
   "metadata": {},
   "outputs": [
    {
     "data": {
      "text/plain": [
       "[22, 15, 50]"
      ]
     },
     "execution_count": 36,
     "metadata": {},
     "output_type": "execute_result"
    }
   ],
   "source": [
    "idades[1:]"
   ]
  },
  {
   "cell_type": "code",
   "execution_count": 37,
   "id": "8858a536",
   "metadata": {},
   "outputs": [
    {
     "data": {
      "text/plain": [
       "50"
      ]
     },
     "execution_count": 37,
     "metadata": {},
     "output_type": "execute_result"
    }
   ],
   "source": [
    "idades[-1]"
   ]
  },
  {
   "cell_type": "code",
   "execution_count": 38,
   "id": "1a1b1ba6",
   "metadata": {},
   "outputs": [
    {
     "data": {
      "text/plain": [
       "15"
      ]
     },
     "execution_count": 38,
     "metadata": {},
     "output_type": "execute_result"
    }
   ],
   "source": [
    "idades[-2]"
   ]
  },
  {
   "cell_type": "code",
   "execution_count": 39,
   "id": "8c108085",
   "metadata": {},
   "outputs": [
    {
     "data": {
      "text/plain": [
       "[18, 22, 15, 50]"
      ]
     },
     "execution_count": 39,
     "metadata": {},
     "output_type": "execute_result"
    }
   ],
   "source": [
    "idades"
   ]
  },
  {
   "cell_type": "markdown",
   "id": "748c0cd2",
   "metadata": {},
   "source": [
    "# Laços e loops"
   ]
  },
  {
   "cell_type": "code",
   "execution_count": 43,
   "id": "2e5307e2",
   "metadata": {},
   "outputs": [
    {
     "name": "stdout",
     "output_type": "stream",
     "text": [
      "18 anos de idade, TEM perimissão para dirigir\n",
      "22 anos de idade, TEM perimissão para dirigir\n",
      "15 anos de idade, NÃO TEM permissão para dirigir\n",
      "50 anos de idade, TEM perimissão para dirigir\n"
     ]
    }
   ],
   "source": [
    "#for fora da função\n",
    "\n",
    "def verifica_se_pode_dirigir(idade):\n",
    "    if idade >= 18:\n",
    "        print(f'{idade} anos de idade, TEM perimissão para dirigir')\n",
    "    else:\n",
    "        print(f'{idade} anos de idade, NÃO TEM permissão para dirigir')\n",
    "        \n",
    "for idade in idades:\n",
    "    verifica_se_pode_dirigir(idade)"
   ]
  },
  {
   "cell_type": "code",
   "execution_count": 45,
   "id": "70bc89ee",
   "metadata": {},
   "outputs": [
    {
     "name": "stdout",
     "output_type": "stream",
     "text": [
      "18 anos de idade, TEM perimissão para dirigir\n",
      "22 anos de idade, TEM perimissão para dirigir\n",
      "15 anos de idade, NÃO TEM permissão para dirigir\n",
      "50 anos de idade, TEM perimissão para dirigir\n"
     ]
    }
   ],
   "source": [
    "#for dentro da função\n",
    "\n",
    "def verifica_se_pode_dirigir(idades):\n",
    "    for idade in idades:\n",
    "        if idade >= 18:\n",
    "            print(f'{idade} anos de idade, TEM perimissão para dirigir')\n",
    "        else:\n",
    "            print(f'{idade} anos de idade, NÃO TEM permissão para dirigir')\n",
    "            \n",
    "verifica_se_pode_dirigir(idades)"
   ]
  },
  {
   "cell_type": "markdown",
   "id": "cd6a168b",
   "metadata": {},
   "source": [
    "# Booleano"
   ]
  },
  {
   "cell_type": "code",
   "execution_count": 46,
   "id": "0156d3e1",
   "metadata": {},
   "outputs": [
    {
     "data": {
      "text/plain": [
       "True"
      ]
     },
     "execution_count": 46,
     "metadata": {},
     "output_type": "execute_result"
    }
   ],
   "source": [
    "idade = 18\n",
    "idade >= 18"
   ]
  },
  {
   "cell_type": "code",
   "execution_count": 47,
   "id": "512b99e3",
   "metadata": {},
   "outputs": [
    {
     "data": {
      "text/plain": [
       "False"
      ]
     },
     "execution_count": 47,
     "metadata": {},
     "output_type": "execute_result"
    }
   ],
   "source": [
    "idade = 15\n",
    "idade >= 18"
   ]
  },
  {
   "cell_type": "code",
   "execution_count": 48,
   "id": "0d6b3ea0",
   "metadata": {},
   "outputs": [],
   "source": [
    "permissoes = []\n",
    "idades = [20, 14, 40]\n",
    "\n",
    "def verifica_se_pode_dirigir(idades, permissoes):\n",
    "    for idade in idades:\n",
    "        if idade >= 18:\n",
    "            permissoes.append(True)\n",
    "        else:\n",
    "            permissoes.append(False)\n",
    "            \n",
    "verifica_se_pode_dirigir(idades, permissoes)"
   ]
  },
  {
   "cell_type": "code",
   "execution_count": 49,
   "id": "9ccce01b",
   "metadata": {},
   "outputs": [
    {
     "data": {
      "text/plain": [
       "[True, False, True]"
      ]
     },
     "execution_count": 49,
     "metadata": {},
     "output_type": "execute_result"
    }
   ],
   "source": [
    "permissoes"
   ]
  },
  {
   "cell_type": "code",
   "execution_count": 50,
   "id": "0d776577",
   "metadata": {
    "scrolled": true
   },
   "outputs": [
    {
     "name": "stdout",
     "output_type": "stream",
     "text": [
      "Tem permissão para dirigir\n",
      "Não tem permissão para dirigir\n",
      "Tem permissão para dirigir\n"
     ]
    }
   ],
   "source": [
    "for permissao in permissoes:\n",
    "    if permissao == True:\n",
    "        print('Tem permissão para dirigir')\n",
    "    else:\n",
    "        print('Não tem permissão para dirigir')"
   ]
  },
  {
   "cell_type": "markdown",
   "id": "91fc04ba",
   "metadata": {},
   "source": [
    "# Tipos em uma lista"
   ]
  },
  {
   "cell_type": "code",
   "execution_count": 1,
   "id": "9ddf0e9a",
   "metadata": {},
   "outputs": [
    {
     "name": "stdout",
     "output_type": "stream",
     "text": [
      "O elemento Guilherme é do tipo:  <class 'str'>\n",
      "O elemento 28 é do tipo:  <class 'int'>\n",
      "O elemento True é do tipo:  <class 'bool'>\n",
      "O elemento 18 é do tipo:  <class 'str'>\n"
     ]
    }
   ],
   "source": [
    "lista = ['Guilherme', 28, True, '18']\n",
    "\n",
    "for elemento in lista:\n",
    "    print(f'O elemento {elemento} é do tipo: ', type(elemento))"
   ]
  },
  {
   "cell_type": "markdown",
   "id": "859f5172",
   "metadata": {},
   "source": [
    "# Import"
   ]
  },
  {
   "cell_type": "code",
   "execution_count": 12,
   "id": "ca285e4b",
   "metadata": {},
   "outputs": [],
   "source": [
    "from random import randrange, seed"
   ]
  },
  {
   "cell_type": "code",
   "execution_count": 13,
   "id": "285d3611",
   "metadata": {},
   "outputs": [],
   "source": [
    "seed(10)"
   ]
  },
  {
   "cell_type": "code",
   "execution_count": 14,
   "id": "62744dbf",
   "metadata": {},
   "outputs": [
    {
     "data": {
      "text/plain": [
       "9"
      ]
     },
     "execution_count": 14,
     "metadata": {},
     "output_type": "execute_result"
    }
   ],
   "source": [
    "randrange(0, 11)"
   ]
  },
  {
   "cell_type": "code",
   "execution_count": 15,
   "id": "caa8c208",
   "metadata": {},
   "outputs": [
    {
     "data": {
      "text/plain": [
       "[0, 6, 7, 9, 0, 3, 7, 7]"
      ]
     },
     "execution_count": 15,
     "metadata": {},
     "output_type": "execute_result"
    }
   ],
   "source": [
    "notas_matematica = []\n",
    "\n",
    "for notas in range(8):\n",
    "    notas_matematica.append(randrange(0,11))\n",
    "    \n",
    "notas_matematica"
   ]
  },
  {
   "cell_type": "code",
   "execution_count": 16,
   "id": "7cb84c5c",
   "metadata": {},
   "outputs": [
    {
     "data": {
      "text/plain": [
       "8"
      ]
     },
     "execution_count": 16,
     "metadata": {},
     "output_type": "execute_result"
    }
   ],
   "source": [
    "len(notas_matematica)"
   ]
  },
  {
   "cell_type": "code",
   "execution_count": 17,
   "id": "b403d42f",
   "metadata": {},
   "outputs": [
    {
     "data": {
      "text/plain": [
       "method"
      ]
     },
     "execution_count": 17,
     "metadata": {},
     "output_type": "execute_result"
    }
   ],
   "source": [
    "type(randrange)"
   ]
  },
  {
   "cell_type": "markdown",
   "id": "86f12273",
   "metadata": {},
   "source": [
    "# Matplotlib"
   ]
  },
  {
   "cell_type": "code",
   "execution_count": 18,
   "id": "a98eb454",
   "metadata": {},
   "outputs": [],
   "source": [
    "import matplotlib.pyplot as plt"
   ]
  },
  {
   "cell_type": "code",
   "execution_count": 25,
   "id": "507a616c",
   "metadata": {
    "scrolled": true
   },
   "outputs": [
    {
     "data": {
      "text/plain": [
       "[<matplotlib.lines.Line2D at 0x24c87eed0d0>]"
      ]
     },
     "execution_count": 25,
     "metadata": {},
     "output_type": "execute_result"
    },
    {
     "data": {
      "image/png": "[encoded data removed]",
      "text/plain": [
       "<Figure size 432x288 with 1 Axes>"
      ]
     },
     "metadata": {
      "needs_background": "light"
     },
     "output_type": "display_data"
    }
   ],
   "source": [
    "x = list(range(1, 9))\n",
    "y = notas_matematica\n",
    "plt.title('Notas de matemática')\n",
    "plt.xlabel('Provas')\n",
    "plt.ylabel('Notas')\n",
    "plt.plot(x, y, marker = 'o')\n"
   ]
  }
 ],
 "metadata": {
  "kernelspec": {
   "display_name": "Python 3 (ipykernel)",
   "language": "python",
   "name": "python3"
  },
  "language_info": {
   "codemirror_mode": {
    "name": "ipython",
    "version": 3
   },
   "file_extension": ".py",
   "mimetype": "text/x-python",
   "name": "python",
   "nbconvert_exporter": "python",
   "pygments_lexer": "ipython3",
   "version": "3.9.12"
  }
 },
 "nbformat": 4,
 "nbformat_minor": 5
}
